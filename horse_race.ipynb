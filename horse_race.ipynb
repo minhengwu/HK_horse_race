{
 "cells": [
  {
   "cell_type": "code",
   "execution_count": 48,
   "metadata": {
    "collapsed": true
   },
   "outputs": [],
   "source": [
    "reset -fs"
   ]
  },
  {
   "cell_type": "code",
   "execution_count": 49,
   "metadata": {
    "collapsed": true
   },
   "outputs": [],
   "source": [
    "import pandas as pd\n",
    "import numpy as np\n",
    "import matplotlib.pyplot as plt\n",
    "import seaborn as sn\n",
    "import statsmodels.formula.api as smf\n",
    "import statsmodels.api as sms\n",
    "%matplotlib inline"
   ]
  },
  {
   "cell_type": "code",
   "execution_count": 50,
   "metadata": {
    "collapsed": false
   },
   "outputs": [],
   "source": [
    "#read in the file\n",
    "horse = pd.read_csv('race-result-horse.csv')\n",
    "race = pd.read_csv('race-result-race.csv')"
   ]
  },
  {
   "cell_type": "code",
   "execution_count": 51,
   "metadata": {
    "collapsed": false
   },
   "outputs": [],
   "source": [
    "#convert the finish_time to # of second\n",
    "def convert_time(time_string):\n",
    "    '''a function to convert string time to seconds'''\n",
    "    return float(time_string.split('.')[0]) * 60 + float(time_string.split('.')[1]) + float(time_string.split('.')[2]) / 100\n",
    "\n",
    "horse = horse[horse.finish_time != '---']\n",
    "horse.finish_time = horse.finish_time.apply(convert_time)"
   ]
  },
  {
   "cell_type": "code",
   "execution_count": 52,
   "metadata": {
    "collapsed": true
   },
   "outputs": [],
   "source": [
    "#change the position from string to numeric\n",
    "horse.finishing_position = pd.to_numeric(horse.finishing_position, errors = 'coerce')"
   ]
  },
  {
   "cell_type": "code",
   "execution_count": 53,
   "metadata": {
    "collapsed": false
   },
   "outputs": [],
   "source": [
    "#generate a category variable for winning or losing \n",
    "horse['winning'] = horse.finishing_position == 1"
   ]
  },
  {
   "cell_type": "code",
   "execution_count": 54,
   "metadata": {
    "collapsed": false
   },
   "outputs": [],
   "source": [
    "horse = horse.merge(race[['race_id', 'race_distance']], suffixes=('', '_y'))"
   ]
  },
  {
   "cell_type": "code",
   "execution_count": 55,
   "metadata": {
    "collapsed": false
   },
   "outputs": [],
   "source": [
    "# since the race distane is not fixed, we only pick the most usual distance to analyze, we pick 1200\n",
    "horse = horse[horse.race_distance == 1200]"
   ]
  },
  {
   "cell_type": "code",
   "execution_count": 56,
   "metadata": {
    "collapsed": false
   },
   "outputs": [],
   "source": [
    "#delete inrrelevant columns\n",
    "horse.drop(['length_behind_winner','running_position_1','running_position_2','running_position_3',\n",
    "           'running_position_4','running_position_5','running_position_6', 'horse_name', 'race_distance'], axis = 1, inplace = True)"
   ]
  },
  {
   "cell_type": "code",
   "execution_count": 59,
   "metadata": {
    "collapsed": false
   },
   "outputs": [
    {
     "data": {
      "text/html": [
       "<div>\n",
       "<table border=\"1\" class=\"dataframe\">\n",
       "  <thead>\n",
       "    <tr style=\"text-align: right;\">\n",
       "      <th></th>\n",
       "      <th>finishing_position</th>\n",
       "      <th>horse_number</th>\n",
       "      <th>horse_id</th>\n",
       "      <th>jockey</th>\n",
       "      <th>trainer</th>\n",
       "      <th>actual_weight</th>\n",
       "      <th>declared_horse_weight</th>\n",
       "      <th>draw</th>\n",
       "      <th>finish_time</th>\n",
       "      <th>win_odds</th>\n",
       "      <th>race_id</th>\n",
       "      <th>winning</th>\n",
       "    </tr>\n",
       "  </thead>\n",
       "  <tbody>\n",
       "    <tr>\n",
       "      <th>27</th>\n",
       "      <td>1.0</td>\n",
       "      <td>7.0</td>\n",
       "      <td>P012</td>\n",
       "      <td>D Whyte</td>\n",
       "      <td>Y S Tsui</td>\n",
       "      <td>130.0</td>\n",
       "      <td>1147.0</td>\n",
       "      <td>8.0</td>\n",
       "      <td>69.97</td>\n",
       "      <td>7.1</td>\n",
       "      <td>2014-002</td>\n",
       "      <td>True</td>\n",
       "    </tr>\n",
       "    <tr>\n",
       "      <th>28</th>\n",
       "      <td>2.0</td>\n",
       "      <td>11.0</td>\n",
       "      <td>P331</td>\n",
       "      <td>K C Leung</td>\n",
       "      <td>L Ho</td>\n",
       "      <td>117.0</td>\n",
       "      <td>1073.0</td>\n",
       "      <td>10.0</td>\n",
       "      <td>70.17</td>\n",
       "      <td>7.4</td>\n",
       "      <td>2014-002</td>\n",
       "      <td>False</td>\n",
       "    </tr>\n",
       "    <tr>\n",
       "      <th>29</th>\n",
       "      <td>3.0</td>\n",
       "      <td>10.0</td>\n",
       "      <td>L252</td>\n",
       "      <td>C Reith</td>\n",
       "      <td>D E Ferraris</td>\n",
       "      <td>120.0</td>\n",
       "      <td>1072.0</td>\n",
       "      <td>7.0</td>\n",
       "      <td>70.24</td>\n",
       "      <td>82.0</td>\n",
       "      <td>2014-002</td>\n",
       "      <td>False</td>\n",
       "    </tr>\n",
       "    <tr>\n",
       "      <th>30</th>\n",
       "      <td>4.0</td>\n",
       "      <td>12.0</td>\n",
       "      <td>P011</td>\n",
       "      <td>J Moreira</td>\n",
       "      <td>P F Yiu</td>\n",
       "      <td>115.0</td>\n",
       "      <td>1161.0</td>\n",
       "      <td>13.0</td>\n",
       "      <td>70.31</td>\n",
       "      <td>5.7</td>\n",
       "      <td>2014-002</td>\n",
       "      <td>False</td>\n",
       "    </tr>\n",
       "    <tr>\n",
       "      <th>31</th>\n",
       "      <td>5.0</td>\n",
       "      <td>6.0</td>\n",
       "      <td>L251</td>\n",
       "      <td>H W Lai</td>\n",
       "      <td>A Lee</td>\n",
       "      <td>129.0</td>\n",
       "      <td>1084.0</td>\n",
       "      <td>14.0</td>\n",
       "      <td>70.39</td>\n",
       "      <td>58.0</td>\n",
       "      <td>2014-002</td>\n",
       "      <td>False</td>\n",
       "    </tr>\n",
       "  </tbody>\n",
       "</table>\n",
       "</div>"
      ],
      "text/plain": [
       "    finishing_position  horse_number horse_id     jockey       trainer  \\\n",
       "27                 1.0           7.0     P012    D Whyte      Y S Tsui   \n",
       "28                 2.0          11.0     P331  K C Leung          L Ho   \n",
       "29                 3.0          10.0     L252    C Reith  D E Ferraris   \n",
       "30                 4.0          12.0     P011  J Moreira       P F Yiu   \n",
       "31                 5.0           6.0     L251    H W Lai         A Lee   \n",
       "\n",
       "    actual_weight  declared_horse_weight  draw  finish_time  win_odds  \\\n",
       "27          130.0                 1147.0   8.0        69.97       7.1   \n",
       "28          117.0                 1073.0  10.0        70.17       7.4   \n",
       "29          120.0                 1072.0   7.0        70.24      82.0   \n",
       "30          115.0                 1161.0  13.0        70.31       5.7   \n",
       "31          129.0                 1084.0  14.0        70.39      58.0   \n",
       "\n",
       "     race_id winning  \n",
       "27  2014-002    True  \n",
       "28  2014-002   False  \n",
       "29  2014-002   False  \n",
       "30  2014-002   False  \n",
       "31  2014-002   False  "
      ]
     },
     "execution_count": 59,
     "metadata": {},
     "output_type": "execute_result"
    }
   ],
   "source": [
    "horse.head()"
   ]
  },
  {
   "cell_type": "code",
   "execution_count": null,
   "metadata": {
    "collapsed": true
   },
   "outputs": [],
   "source": [
    "\"\"\"The goal of this project is to predict what a horse will end up giving its features. Given all these info from the \n",
    "table, we will determine which is a useful info. And given that we also have the odds, we can compare our result to the \n",
    "odds\"\"\""
   ]
  },
  {
   "cell_type": "code",
   "execution_count": null,
   "metadata": {
    "collapsed": true
   },
   "outputs": [],
   "source": [
    "\"\"\"generate some useful stats, such as the mean, median, mode of horse wight\"\"\""
   ]
  },
  {
   "cell_type": "code",
   "execution_count": 60,
   "metadata": {
    "collapsed": false
   },
   "outputs": [
    {
     "name": "stdout",
     "output_type": "stream",
     "text": [
      "69.9050666666667\n",
      "69.75148288973384\n"
     ]
    }
   ],
   "source": [
    "#let's calculate the mean time of the overall race and the mean time of the winning horse\n",
    "second_mean_time = horse[horse.finishing_position == 2].finish_time.mean()\n",
    "winning_mean_time = horse[horse.finishing_position == 1].finish_time.mean()\n",
    "print(second_mean_time)\n",
    "print(winning_mean_time)"
   ]
  },
  {
   "cell_type": "code",
   "execution_count": 62,
   "metadata": {
    "collapsed": false
   },
   "outputs": [
    {
     "data": {
      "text/plain": [
       "[<matplotlib.lines.Line2D at 0x7fc0676cb0b8>]"
      ]
     },
     "execution_count": 62,
     "metadata": {},
     "output_type": "execute_result"
    },
    {
     "data": {
      "image/png": "[encoded data removed]",
      "text/plain": [
       "<matplotlib.figure.Figure at 0x7fc06774f668>"
      ]
     },
     "metadata": {},
     "output_type": "display_data"
    }
   ],
   "source": [
    "#we can also visualize the difference\n",
    "plt.plot(horse[horse.finishing_position == 1].finish_time, color = 'green')"
   ]
  },
  {
   "cell_type": "code",
   "execution_count": 63,
   "metadata": {
    "collapsed": false
   },
   "outputs": [
    {
     "data": {
      "text/plain": [
       "(array([   2.,    5.,    8.,    6.,   15.,   25.,   26.,   32.,   65.,\n",
       "          91.,  168.,  193.,  255.,  239.,  218.,  276.,  296.,  378.,\n",
       "         329.,  298.,  423.,  332.,  412.,  381.,  295.,  276.,  247.,\n",
       "         258.,  268.,  590.]),\n",
       " array([ 103.,  104.,  105.,  106.,  107.,  108.,  109.,  110.,  111.,\n",
       "         112.,  113.,  114.,  115.,  116.,  117.,  118.,  119.,  120.,\n",
       "         121.,  122.,  123.,  124.,  125.,  126.,  127.,  128.,  129.,\n",
       "         130.,  131.,  132.,  133.]),\n",
       " <a list of 30 Patch objects>)"
      ]
     },
     "execution_count": 63,
     "metadata": {},
     "output_type": "execute_result"
    },
    {
     "data": {
      "image/png": "[encoded data removed]",
      "text/plain": [
       "<matplotlib.figure.Figure at 0x7fc0676e3668>"
      ]
     },
     "metadata": {},
     "output_type": "display_data"
    }
   ],
   "source": [
    "plt.hist(horse.actual_weight, bins = 30)"
   ]
  },
  {
   "cell_type": "code",
   "execution_count": 64,
   "metadata": {
    "collapsed": false
   },
   "outputs": [
    {
     "data": {
      "text/plain": [
       "(array([  1.,   1.,   1.,   0.,   2.,   4.,   0.,   1.,   0.,   2.,   6.,\n",
       "          8.,  20.,  24.,   9.,  20.,  20.,  33.,  30.,  26.,  35.,  29.,\n",
       "         36.,  31.,  31.,  21.,  21.,  28.,  24.,  62.]),\n",
       " array([ 103.,  104.,  105.,  106.,  107.,  108.,  109.,  110.,  111.,\n",
       "         112.,  113.,  114.,  115.,  116.,  117.,  118.,  119.,  120.,\n",
       "         121.,  122.,  123.,  124.,  125.,  126.,  127.,  128.,  129.,\n",
       "         130.,  131.,  132.,  133.]),\n",
       " <a list of 30 Patch objects>)"
      ]
     },
     "execution_count": 64,
     "metadata": {},
     "output_type": "execute_result"
    },
    {
     "data": {
      "image/png": "[encoded data removed]",
      "text/plain": [
       "<matplotlib.figure.Figure at 0x7fc064e73048>"
      ]
     },
     "metadata": {},
     "output_type": "display_data"
    }
   ],
   "source": [
    "plt.hist(horse[horse.finishing_position == 1].actual_weight, bins = 30)"
   ]
  },
  {
   "cell_type": "code",
   "execution_count": 5,
   "metadata": {
    "collapsed": true
   },
   "outputs": [],
   "source": [
    "\"\"\"find out that within each race, what charateristic does the winning horse have? \n",
    "  Does the weight contribute to the winning?\n",
    "    compare the weight of the winning horse to the average weight of the horse in the same match. \n",
    "    treat this as a bernoulli trial and treat all the races as a series of bernoulli trail. Use MLE to estimate P, the \n",
    "    probability that higher than average and winning. \n",
    "\"\"\""
   ]
  },
  {
   "cell_type": "code",
   "execution_count": 59,
   "metadata": {
    "collapsed": true
   },
   "outputs": [],
   "source": [
    "#find the mean weight of horse within each race\n",
    "aggmean = horse.groupby(['race_id'])['declared_horse_weight'].mean()"
   ]
  },
  {
   "cell_type": "code",
   "execution_count": 60,
   "metadata": {
    "collapsed": false
   },
   "outputs": [
    {
     "data": {
      "text/plain": [
       "race_id\n",
       "2014-001    1099.428571\n",
       "2014-002    1114.214286\n",
       "2014-003    1132.636364\n",
       "2014-004    1100.000000\n",
       "2014-005    1138.357143\n",
       "Name: declared_horse_weight, dtype: float64"
      ]
     },
     "execution_count": 60,
     "metadata": {},
     "output_type": "execute_result"
    }
   ],
   "source": [
    "aggmean.head()"
   ]
  },
  {
   "cell_type": "code",
   "execution_count": 65,
   "metadata": {
    "collapsed": false
   },
   "outputs": [
    {
     "data": {
      "text/plain": [
       "(array([   4.,   17.,  117.,  272.,  454.,  422.,  211.,   50.,   11.,    3.]),\n",
       " array([ 1031.375     ,  1047.30416667,  1063.23333333,  1079.1625    ,\n",
       "         1095.09166667,  1111.02083333,  1126.95      ,  1142.87916667,\n",
       "         1158.80833333,  1174.7375    ,  1190.66666667]),\n",
       " <a list of 10 Patch objects>)"
      ]
     },
     "execution_count": 65,
     "metadata": {},
     "output_type": "execute_result"
    },
    {
     "data": {
      "image/png": "[encoded data removed]",
      "text/plain": [
       "<matplotlib.figure.Figure at 0x10f510b00>"
      ]
     },
     "metadata": {},
     "output_type": "display_data"
    }
   ],
   "source": [
    "#compare the weight distribution between winnning horse the average of each race.\n",
    "plt.hist(horse_new.declared_horse_weight, alpha = .7)\n",
    "plt.hist(aggmean, color = 'yellow', alpha = .7)"
   ]
  },
  {
   "cell_type": "code",
   "execution_count": 66,
   "metadata": {
    "collapsed": false
   },
   "outputs": [
    {
     "ename": "ValueError",
     "evalue": "can not merge DataFrame with instance of type <class 'pandas.core.series.Series'>",
     "output_type": "error",
     "traceback": [
      "\u001b[0;31m---------------------------------------------------------------------------\u001b[0m",
      "\u001b[0;31mValueError\u001b[0m                                Traceback (most recent call last)",
      "\u001b[0;32m<ipython-input-66-6e14d474b403>\u001b[0m in \u001b[0;36m<module>\u001b[0;34m()\u001b[0m\n\u001b[0;32m----> 1\u001b[0;31m \u001b[0mhorse_new\u001b[0m\u001b[0;34m.\u001b[0m\u001b[0mmerge\u001b[0m\u001b[0;34m(\u001b[0m\u001b[0maggmean\u001b[0m\u001b[0;34m,\u001b[0m \u001b[0mleft_on\u001b[0m \u001b[0;34m=\u001b[0m \u001b[0;34m'race_id'\u001b[0m\u001b[0;34m,\u001b[0m \u001b[0mright_index\u001b[0m \u001b[0;34m=\u001b[0m \u001b[0;32mTrue\u001b[0m\u001b[0;34m)\u001b[0m\u001b[0;34m\u001b[0m\u001b[0m\n\u001b[0m",
      "\u001b[0;32m/Users/minheng/anaconda/lib/python3.6/site-packages/pandas/core/frame.py\u001b[0m in \u001b[0;36mmerge\u001b[0;34m(self, right, how, on, left_on, right_on, left_index, right_index, sort, suffixes, copy, indicator)\u001b[0m\n\u001b[1;32m   4605\u001b[0m                      \u001b[0mright_on\u001b[0m\u001b[0;34m=\u001b[0m\u001b[0mright_on\u001b[0m\u001b[0;34m,\u001b[0m \u001b[0mleft_index\u001b[0m\u001b[0;34m=\u001b[0m\u001b[0mleft_index\u001b[0m\u001b[0;34m,\u001b[0m\u001b[0;34m\u001b[0m\u001b[0m\n\u001b[1;32m   4606\u001b[0m                      \u001b[0mright_index\u001b[0m\u001b[0;34m=\u001b[0m\u001b[0mright_index\u001b[0m\u001b[0;34m,\u001b[0m \u001b[0msort\u001b[0m\u001b[0;34m=\u001b[0m\u001b[0msort\u001b[0m\u001b[0;34m,\u001b[0m \u001b[0msuffixes\u001b[0m\u001b[0;34m=\u001b[0m\u001b[0msuffixes\u001b[0m\u001b[0;34m,\u001b[0m\u001b[0;34m\u001b[0m\u001b[0m\n\u001b[0;32m-> 4607\u001b[0;31m                      copy=copy, indicator=indicator)\n\u001b[0m\u001b[1;32m   4608\u001b[0m \u001b[0;34m\u001b[0m\u001b[0m\n\u001b[1;32m   4609\u001b[0m     \u001b[0;32mdef\u001b[0m \u001b[0mround\u001b[0m\u001b[0;34m(\u001b[0m\u001b[0mself\u001b[0m\u001b[0;34m,\u001b[0m \u001b[0mdecimals\u001b[0m\u001b[0;34m=\u001b[0m\u001b[0;36m0\u001b[0m\u001b[0;34m,\u001b[0m \u001b[0;34m*\u001b[0m\u001b[0margs\u001b[0m\u001b[0;34m,\u001b[0m \u001b[0;34m**\u001b[0m\u001b[0mkwargs\u001b[0m\u001b[0;34m)\u001b[0m\u001b[0;34m:\u001b[0m\u001b[0;34m\u001b[0m\u001b[0m\n",
      "\u001b[0;32m/Users/minheng/anaconda/lib/python3.6/site-packages/pandas/tools/merge.py\u001b[0m in \u001b[0;36mmerge\u001b[0;34m(left, right, how, on, left_on, right_on, left_index, right_index, sort, suffixes, copy, indicator)\u001b[0m\n\u001b[1;32m     59\u001b[0m                          \u001b[0mright_on\u001b[0m\u001b[0;34m=\u001b[0m\u001b[0mright_on\u001b[0m\u001b[0;34m,\u001b[0m \u001b[0mleft_index\u001b[0m\u001b[0;34m=\u001b[0m\u001b[0mleft_index\u001b[0m\u001b[0;34m,\u001b[0m\u001b[0;34m\u001b[0m\u001b[0m\n\u001b[1;32m     60\u001b[0m                          \u001b[0mright_index\u001b[0m\u001b[0;34m=\u001b[0m\u001b[0mright_index\u001b[0m\u001b[0;34m,\u001b[0m \u001b[0msort\u001b[0m\u001b[0;34m=\u001b[0m\u001b[0msort\u001b[0m\u001b[0;34m,\u001b[0m \u001b[0msuffixes\u001b[0m\u001b[0;34m=\u001b[0m\u001b[0msuffixes\u001b[0m\u001b[0;34m,\u001b[0m\u001b[0;34m\u001b[0m\u001b[0m\n\u001b[0;32m---> 61\u001b[0;31m                          copy=copy, indicator=indicator)\n\u001b[0m\u001b[1;32m     62\u001b[0m     \u001b[0;32mreturn\u001b[0m \u001b[0mop\u001b[0m\u001b[0;34m.\u001b[0m\u001b[0mget_result\u001b[0m\u001b[0;34m(\u001b[0m\u001b[0;34m)\u001b[0m\u001b[0;34m\u001b[0m\u001b[0m\n\u001b[1;32m     63\u001b[0m \u001b[0;32mif\u001b[0m \u001b[0m__debug__\u001b[0m\u001b[0;34m:\u001b[0m\u001b[0;34m\u001b[0m\u001b[0m\n",
      "\u001b[0;32m/Users/minheng/anaconda/lib/python3.6/site-packages/pandas/tools/merge.py\u001b[0m in \u001b[0;36m__init__\u001b[0;34m(self, left, right, how, on, left_on, right_on, axis, left_index, right_index, sort, suffixes, copy, indicator)\u001b[0m\n\u001b[1;32m    518\u001b[0m             raise ValueError(\n\u001b[1;32m    519\u001b[0m                 \u001b[0;34m'can not merge DataFrame with instance of '\u001b[0m\u001b[0;34m\u001b[0m\u001b[0m\n\u001b[0;32m--> 520\u001b[0;31m                 'type {0}'.format(type(right)))\n\u001b[0m\u001b[1;32m    521\u001b[0m \u001b[0;34m\u001b[0m\u001b[0m\n\u001b[1;32m    522\u001b[0m         \u001b[0;32mif\u001b[0m \u001b[0;32mnot\u001b[0m \u001b[0mis_bool\u001b[0m\u001b[0;34m(\u001b[0m\u001b[0mleft_index\u001b[0m\u001b[0;34m)\u001b[0m\u001b[0;34m:\u001b[0m\u001b[0;34m\u001b[0m\u001b[0m\n",
      "\u001b[0;31mValueError\u001b[0m: can not merge DataFrame with instance of type <class 'pandas.core.series.Series'>"
     ]
    }
   ],
   "source": []
  },
  {
   "cell_type": "code",
   "execution_count": 6,
   "metadata": {
    "collapsed": true
   },
   "outputs": [],
   "source": [
    "\"\"\"how often does a low odd horse end up winning the race. \n",
    "    use the data with fin_pos = 1, calculate the distribution odd(cut them in bins) versus the times win\"\"\""
   ]
  },
  {
   "cell_type": "code",
   "execution_count": 7,
   "metadata": {
    "collapsed": true
   },
   "outputs": [],
   "source": [
    "\"\"\"Does the draw of the gate have any influence toward the result. use the 'draw' column, use the whole data to find \n",
    "    relation between draws and finished position.\n",
    "     "
   ]
  },
  {
   "cell_type": "code",
   "execution_count": 8,
   "metadata": {
    "collapsed": true
   },
   "outputs": [],
   "source": [
    "#under what finish time can a horse say winning a match most likely\n",
    "\"\"\"use the winning data, plot the distribution of time, find the mean, mode and variance. Find a horse average run \n",
    "time, assume the horse will run at this time next time, what is the probabilty that it will finish first\"\"\"\n",
    "\n",
    "\n",
    "\"\"\"select 13 horses in random, calcuate the average, calculate the odd base on the average. simulated the race result.\n",
    "\"\"\""
   ]
  },
  {
   "cell_type": "code",
   "execution_count": 45,
   "metadata": {
    "collapsed": false
   },
   "outputs": [
    {
     "data": {
      "text/html": [
       "<div>\n",
       "<table border=\"1\" class=\"dataframe\">\n",
       "  <thead>\n",
       "    <tr style=\"text-align: right;\">\n",
       "      <th></th>\n",
       "      <th>finishing_position</th>\n",
       "      <th>horse_number</th>\n",
       "      <th>horse_name</th>\n",
       "      <th>horse_id</th>\n",
       "      <th>jockey</th>\n",
       "      <th>trainer</th>\n",
       "      <th>actual_weight</th>\n",
       "      <th>declared_horse_weight</th>\n",
       "      <th>draw</th>\n",
       "      <th>length_behind_winner</th>\n",
       "      <th>running_position_1</th>\n",
       "      <th>running_position_2</th>\n",
       "      <th>running_position_3</th>\n",
       "      <th>running_position_4</th>\n",
       "      <th>finish_time</th>\n",
       "      <th>win_odds</th>\n",
       "      <th>running_position_5</th>\n",
       "      <th>running_position_6</th>\n",
       "      <th>race_id</th>\n",
       "    </tr>\n",
       "  </thead>\n",
       "  <tbody>\n",
       "    <tr>\n",
       "      <th>0</th>\n",
       "      <td>1.0</td>\n",
       "      <td>1.0</td>\n",
       "      <td>DOUBLE DRAGON</td>\n",
       "      <td>K019</td>\n",
       "      <td>B Prebble</td>\n",
       "      <td>D Cruz</td>\n",
       "      <td>133.0</td>\n",
       "      <td>1032.0</td>\n",
       "      <td>1.0</td>\n",
       "      <td>-</td>\n",
       "      <td>1.0</td>\n",
       "      <td>2.0</td>\n",
       "      <td>2.0</td>\n",
       "      <td>1.0</td>\n",
       "      <td>1.22.33</td>\n",
       "      <td>3.8</td>\n",
       "      <td>NaN</td>\n",
       "      <td>NaN</td>\n",
       "      <td>2014-001</td>\n",
       "    </tr>\n",
       "    <tr>\n",
       "      <th>1</th>\n",
       "      <td>2.0</td>\n",
       "      <td>2.0</td>\n",
       "      <td>PLAIN BLUE BANNER</td>\n",
       "      <td>S070</td>\n",
       "      <td>D Whyte</td>\n",
       "      <td>D E Ferraris</td>\n",
       "      <td>133.0</td>\n",
       "      <td>1075.0</td>\n",
       "      <td>13.0</td>\n",
       "      <td>2</td>\n",
       "      <td>8.0</td>\n",
       "      <td>9.0</td>\n",
       "      <td>9.0</td>\n",
       "      <td>2.0</td>\n",
       "      <td>1.22.65</td>\n",
       "      <td>8.0</td>\n",
       "      <td>NaN</td>\n",
       "      <td>NaN</td>\n",
       "      <td>2014-001</td>\n",
       "    </tr>\n",
       "    <tr>\n",
       "      <th>2</th>\n",
       "      <td>3.0</td>\n",
       "      <td>10.0</td>\n",
       "      <td>GOLDWEAVER</td>\n",
       "      <td>P072</td>\n",
       "      <td>Y T Cheng</td>\n",
       "      <td>Y S Tsui</td>\n",
       "      <td>121.0</td>\n",
       "      <td>1065.0</td>\n",
       "      <td>3.0</td>\n",
       "      <td>2</td>\n",
       "      <td>2.0</td>\n",
       "      <td>1.0</td>\n",
       "      <td>1.0</td>\n",
       "      <td>3.0</td>\n",
       "      <td>1.22.66</td>\n",
       "      <td>5.7</td>\n",
       "      <td>NaN</td>\n",
       "      <td>NaN</td>\n",
       "      <td>2014-001</td>\n",
       "    </tr>\n",
       "    <tr>\n",
       "      <th>3</th>\n",
       "      <td>4.0</td>\n",
       "      <td>3.0</td>\n",
       "      <td>SUPREME PROFIT</td>\n",
       "      <td>P230</td>\n",
       "      <td>J Moreira</td>\n",
       "      <td>C S Shum</td>\n",
       "      <td>132.0</td>\n",
       "      <td>1222.0</td>\n",
       "      <td>2.0</td>\n",
       "      <td>2</td>\n",
       "      <td>6.0</td>\n",
       "      <td>4.0</td>\n",
       "      <td>5.0</td>\n",
       "      <td>4.0</td>\n",
       "      <td>1.22.66</td>\n",
       "      <td>6.1</td>\n",
       "      <td>NaN</td>\n",
       "      <td>NaN</td>\n",
       "      <td>2014-001</td>\n",
       "    </tr>\n",
       "    <tr>\n",
       "      <th>4</th>\n",
       "      <td>5.0</td>\n",
       "      <td>7.0</td>\n",
       "      <td>THE ONLY KID</td>\n",
       "      <td>H173</td>\n",
       "      <td>Z Purton</td>\n",
       "      <td>K W Lui</td>\n",
       "      <td>125.0</td>\n",
       "      <td>1136.0</td>\n",
       "      <td>9.0</td>\n",
       "      <td>4-1/4</td>\n",
       "      <td>9.0</td>\n",
       "      <td>10.0</td>\n",
       "      <td>10.0</td>\n",
       "      <td>5.0</td>\n",
       "      <td>1.23.02</td>\n",
       "      <td>6.1</td>\n",
       "      <td>NaN</td>\n",
       "      <td>NaN</td>\n",
       "      <td>2014-001</td>\n",
       "    </tr>\n",
       "  </tbody>\n",
       "</table>\n",
       "</div>"
      ],
      "text/plain": [
       "   finishing_position  horse_number         horse_name horse_id     jockey  \\\n",
       "0                 1.0           1.0      DOUBLE DRAGON     K019  B Prebble   \n",
       "1                 2.0           2.0  PLAIN BLUE BANNER     S070    D Whyte   \n",
       "2                 3.0          10.0         GOLDWEAVER     P072  Y T Cheng   \n",
       "3                 4.0           3.0     SUPREME PROFIT     P230  J Moreira   \n",
       "4                 5.0           7.0       THE ONLY KID     H173   Z Purton   \n",
       "\n",
       "        trainer  actual_weight  declared_horse_weight  draw  \\\n",
       "0        D Cruz          133.0                 1032.0   1.0   \n",
       "1  D E Ferraris          133.0                 1075.0  13.0   \n",
       "2      Y S Tsui          121.0                 1065.0   3.0   \n",
       "3      C S Shum          132.0                 1222.0   2.0   \n",
       "4       K W Lui          125.0                 1136.0   9.0   \n",
       "\n",
       "  length_behind_winner  running_position_1  running_position_2  \\\n",
       "0                    -                 1.0                 2.0   \n",
       "1                    2                 8.0                 9.0   \n",
       "2                    2                 2.0                 1.0   \n",
       "3                    2                 6.0                 4.0   \n",
       "4                4-1/4                 9.0                10.0   \n",
       "\n",
       "   running_position_3  running_position_4 finish_time  win_odds  \\\n",
       "0                 2.0                 1.0     1.22.33       3.8   \n",
       "1                 9.0                 2.0     1.22.65       8.0   \n",
       "2                 1.0                 3.0     1.22.66       5.7   \n",
       "3                 5.0                 4.0     1.22.66       6.1   \n",
       "4                10.0                 5.0     1.23.02       6.1   \n",
       "\n",
       "   running_position_5  running_position_6   race_id  \n",
       "0                 NaN                 NaN  2014-001  \n",
       "1                 NaN                 NaN  2014-001  \n",
       "2                 NaN                 NaN  2014-001  \n",
       "3                 NaN                 NaN  2014-001  \n",
       "4                 NaN                 NaN  2014-001  "
      ]
     },
     "execution_count": 45,
     "metadata": {},
     "output_type": "execute_result"
    }
   ],
   "source": [
    "horse.head()"
   ]
  },
  {
   "cell_type": "code",
   "execution_count": 17,
   "metadata": {
    "collapsed": false
   },
   "outputs": [
    {
     "data": {
      "text/plain": [
       "horse_number             float64\n",
       "horse_name                object\n",
       "horse_id                  object\n",
       "jockey                    object\n",
       "trainer                   object\n",
       "actual_weight            float64\n",
       "declared_horse_weight    float64\n",
       "draw                     float64\n",
       "running_position_1       float64\n",
       "running_position_2       float64\n",
       "running_position_3       float64\n",
       "running_position_4       float64\n",
       "finish_time               object\n",
       "win_odds                 float64\n",
       "running_position_5       float64\n",
       "running_position_6       float64\n",
       "race_id                   object\n",
       "dtype: object"
      ]
     },
     "execution_count": 17,
     "metadata": {},
     "output_type": "execute_result"
    }
   ],
   "source": [
    "horse_new.dtypes"
   ]
  },
  {
   "cell_type": "code",
   "execution_count": 18,
   "metadata": {
    "collapsed": false
   },
   "outputs": [
    {
     "data": {
      "text/plain": [
       "(1557, 17)"
      ]
     },
     "execution_count": 18,
     "metadata": {},
     "output_type": "execute_result"
    }
   ],
   "source": [
    "horse_new.shape"
   ]
  },
  {
   "cell_type": "code",
   "execution_count": 19,
   "metadata": {
    "collapsed": false
   },
   "outputs": [
    {
     "data": {
      "text/plain": [
       "<matplotlib.axes._subplots.AxesSubplot at 0x10dd19b00>"
      ]
     },
     "execution_count": 19,
     "metadata": {},
     "output_type": "execute_result"
    },
    {
     "data": {
      "image/png": "[encoded data removed]",
      "text/plain": [
       "<matplotlib.figure.Figure at 0x10dd02908>"
      ]
     },
     "metadata": {},
     "output_type": "display_data"
    }
   ],
   "source": [
    "horse_new.actual_weight.hist()"
   ]
  },
  {
   "cell_type": "code",
   "execution_count": 20,
   "metadata": {
    "collapsed": false
   },
   "outputs": [
    {
     "data": {
      "text/plain": [
       "CONTENTMENT          9\n",
       "SERGEANT TITANIUM    7\n",
       "SUN JEWELLERY        7\n",
       "ABLE FRIEND          7\n",
       "DASHING FELLOW       6\n",
       "Name: horse_name, dtype: int64"
      ]
     },
     "execution_count": 20,
     "metadata": {},
     "output_type": "execute_result"
    }
   ],
   "source": [
    "horse_new.horse_name.value_counts().head()"
   ]
  },
  {
   "cell_type": "code",
   "execution_count": 21,
   "metadata": {
    "collapsed": true
   },
   "outputs": [],
   "source": [
    "#what is the relation between weight and winning. In which weight category does horse win the most?"
   ]
  },
  {
   "cell_type": "code",
   "execution_count": 42,
   "metadata": {
    "collapsed": false
   },
   "outputs": [
    {
     "data": {
      "text/plain": [
       "<matplotlib.collections.PathCollection at 0x10ccdc128>"
      ]
     },
     "execution_count": 42,
     "metadata": {},
     "output_type": "execute_result"
    },
    {
     "data": {
      "image/png": "[encoded data removed]",
      "text/plain": [
       "<matplotlib.figure.Figure at 0x10da99470>"
      ]
     },
     "metadata": {},
     "output_type": "display_data"
    }
   ],
   "source": [
    "horse.groupby('[race_id]')['']"
   ]
  },
  {
   "cell_type": "code",
   "execution_count": null,
   "metadata": {
    "collapsed": true
   },
   "outputs": [],
   "source": []
  }
 ],
 "metadata": {
  "kernelspec": {
   "display_name": "Python 3",
   "language": "python",
   "name": "python3"
  },
  "language_info": {
   "codemirror_mode": {
    "name": "ipython",
    "version": 3
   },
   "file_extension": ".py",
   "mimetype": "text/x-python",
   "name": "python",
   "nbconvert_exporter": "python",
   "pygments_lexer": "ipython3",
   "version": "3.6.0"
  }
 },
 "nbformat": 4,
 "nbformat_minor": 2
}
